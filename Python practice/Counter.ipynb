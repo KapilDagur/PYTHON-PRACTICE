{
 "cells": [
  {
   "cell_type": "code",
   "execution_count": null,
   "id": "14e63272",
   "metadata": {},
   "outputs": [],
   "source": [
    "t=int(input())\n",
    "arr=[]\n",
    "while t>0:\n",
    "    maximum=0\n",
    "    n,m=tuple(map(int,input().split(\" \")))\n",
    "    for i in range(n):\n",
    "        count=0\n",
    "        arr.append(input())\n",
    "        count=arr[i].count(\"#\")\n",
    "        if(count>maximum):\n",
    "            maximum=count\n",
    "    print(maximum)\n",
    "    t-=1"
   ]
  },
  {
   "cell_type": "code",
   "execution_count": null,
   "id": "367cc5bc",
   "metadata": {},
   "outputs": [],
   "source": []
  }
 ],
 "metadata": {
  "kernelspec": {
   "display_name": "Python 3 (ipykernel)",
   "language": "python",
   "name": "python3"
  },
  "language_info": {
   "codemirror_mode": {
    "name": "ipython",
    "version": 3
   },
   "file_extension": ".py",
   "mimetype": "text/x-python",
   "name": "python",
   "nbconvert_exporter": "python",
   "pygments_lexer": "ipython3",
   "version": "3.10.0"
  }
 },
 "nbformat": 4,
 "nbformat_minor": 5
}
