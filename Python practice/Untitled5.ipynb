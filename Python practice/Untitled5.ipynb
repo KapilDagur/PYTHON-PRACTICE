{
 "cells": [
  {
   "cell_type": "code",
   "execution_count": 5,
   "id": "c2aac6c1",
   "metadata": {},
   "outputs": [
    {
     "name": "stdout",
     "output_type": "stream",
     "text": [
      "5\n",
      "10 11 12 8 9\n",
      "3\n"
     ]
    }
   ],
   "source": [
    "def check_arr_rotation(arr,n):\n",
    "    i,j = 0,0\n",
    "    min = arr[0]\n",
    "    for i in range(1,n):\n",
    "        if(min > arr[i]):\n",
    "            min = arr[i]\n",
    "            j = i\n",
    "    print(j)\n",
    "n = int(input())\n",
    "arr = [int(x) for x in input().split()]\n",
    "check_arr_rotation(arr,n)"
   ]
  },
  {
   "cell_type": "code",
   "execution_count": null,
   "id": "ef1f8fde",
   "metadata": {},
   "outputs": [],
   "source": []
  },
  {
   "cell_type": "code",
   "execution_count": null,
   "id": "4c9ea77f",
   "metadata": {},
   "outputs": [],
   "source": []
  }
 ],
 "metadata": {
  "kernelspec": {
   "display_name": "Python 3 (ipykernel)",
   "language": "python",
   "name": "python3"
  },
  "language_info": {
   "codemirror_mode": {
    "name": "ipython",
    "version": 3
   },
   "file_extension": ".py",
   "mimetype": "text/x-python",
   "name": "python",
   "nbconvert_exporter": "python",
   "pygments_lexer": "ipython3",
   "version": "3.10.0"
  }
 },
 "nbformat": 4,
 "nbformat_minor": 5
}
