{
 "cells": [
  {
   "cell_type": "code",
   "execution_count": 1,
   "id": "c1170d61",
   "metadata": {},
   "outputs": [
    {
     "name": "stdout",
     "output_type": "stream",
     "text": [
      "Enter Employee : 1\n",
      "Enter Employee Name : j\n",
      "Enter Employe Post Name : j\n",
      "Enter Session (In YYYY-YYYY) : 2020-2021\n",
      "Enter Blood Group : A+\n",
      "ENTER MOBILE NO : 98765\n"
     ]
    }
   ],
   "source": [
    "import pyqrcode\n",
    "import png\n",
    "from  pyqrcode import QRCode\n",
    "EMPLOYEE_ID = int(input(\"Enter Employee : \"))\n",
    "EMPLOYEE_NAME = input(\"Enter Employee Name : \")\n",
    "EMPLOYEE_POST = input(\"Enter Employe Post Name : \")\n",
    "EMPLOYEE_JOINING_YEAR = input(\"Enter Session (In YYYY-YYYY) : \")\n",
    "EMPLOYEE_BLOOD_GROUP = input(\"Enter Blood Group : \")\n",
    "EMPLOYEE_CONTACT_NUMBER = int(input(\"ENTER MOBILE NO : \"))\n",
    "EMPLOYEE_DATA = f\"\"\"EMPLOYEE ID : {EMPLOYEE_ID}\n",
    "EMPLOYEE NAME : MR {EMPLOYEE_NAME}\n",
    "EMPLOYEE POST NAME : {EMPLOYEE_POST}\n",
    "EMPLOYEE JOINING YEAR : {EMPLOYEE_JOINING_YEAR}\n",
    "EMPLOYEE BLOOD GROUP : {EMPLOYEE_BLOOD_GROUP}\n",
    "EMPLOYEE CONTACT NO : +91 {EMPLOYEE_CONTACT_NUMBER}\"\"\"\n",
    "EMPLOYEE_QR = pyqrcode.create(EMPLOYEE_DATA)\n",
    "EMPLOYEE_QR.png(f\"EMPLOYEE ID : {EMPLOYEE_ID}.png\",scale = 6)\n"
   ]
  },
  {
   "cell_type": "code",
   "execution_count": null,
   "id": "a8a4f8f0",
   "metadata": {},
   "outputs": [],
   "source": []
  }
 ],
 "metadata": {
  "kernelspec": {
   "display_name": "Python 3 (ipykernel)",
   "language": "python",
   "name": "python3"
  },
  "language_info": {
   "codemirror_mode": {
    "name": "ipython",
    "version": 3
   },
   "file_extension": ".py",
   "mimetype": "text/x-python",
   "name": "python",
   "nbconvert_exporter": "python",
   "pygments_lexer": "ipython3",
   "version": "3.10.0"
  }
 },
 "nbformat": 4,
 "nbformat_minor": 5
}
