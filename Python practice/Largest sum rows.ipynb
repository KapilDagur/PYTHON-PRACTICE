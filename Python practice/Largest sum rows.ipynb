{
 "cells": [
  {
   "cell_type": "code",
   "execution_count": null,
   "id": "173a8211",
   "metadata": {},
   "outputs": [],
   "source": [
    "#1 2 3\n",
    "#4 5 6\n",
    "#7 8 9"
   ]
  },
  {
   "cell_type": "code",
   "execution_count": 11,
   "id": "a8f57245",
   "metadata": {},
   "outputs": [
    {
     "name": "stdout",
     "output_type": "stream",
     "text": [
      "6 15 24 33 "
     ]
    }
   ],
   "source": [
    "arr=[[1,2,3],[4,5,6],[7,8,9],[10,11,12]]\n",
    "maxs=0\n",
    "for i in range(4):\n",
    "    sum=0\n",
    "    for j in range(3):\n",
    "        sum+=arr[i][j]\n",
    "    print(sum,end=\" \")\n",
    "            \n",
    "            "
   ]
  },
  {
   "cell_type": "code",
   "execution_count": 18,
   "id": "0fe148dc",
   "metadata": {},
   "outputs": [
    {
     "name": "stdout",
     "output_type": "stream",
     "text": [
      "7\n",
      "8\n",
      "9\n"
     ]
    }
   ],
   "source": [
    "arr=[1,2,3]\n",
    "arr1=[4,5,6]\n",
    "for i in range(3):\n",
    "    print(arr[i]+arr1[j])"
   ]
  },
  {
   "cell_type": "code",
   "execution_count": null,
   "id": "5552a95d",
   "metadata": {},
   "outputs": [],
   "source": []
  }
 ],
 "metadata": {
  "kernelspec": {
   "display_name": "Python 3 (ipykernel)",
   "language": "python",
   "name": "python3"
  },
  "language_info": {
   "codemirror_mode": {
    "name": "ipython",
    "version": 3
   },
   "file_extension": ".py",
   "mimetype": "text/x-python",
   "name": "python",
   "nbconvert_exporter": "python",
   "pygments_lexer": "ipython3",
   "version": "3.10.0"
  }
 },
 "nbformat": 4,
 "nbformat_minor": 5
}
