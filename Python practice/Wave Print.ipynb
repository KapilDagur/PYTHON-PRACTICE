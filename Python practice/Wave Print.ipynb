{
 "cells": [
  {
   "cell_type": "code",
   "execution_count": 3,
   "id": "171ad0c5",
   "metadata": {},
   "outputs": [
    {
     "data": {
      "text/plain": [
       "'\\n1 2 3\\n4 5 6\\n7 8 9\\n'"
      ]
     },
     "execution_count": 3,
     "metadata": {},
     "output_type": "execute_result"
    }
   ],
   "source": [
    "\"\"\"\n",
    "Input array\n",
    "1 2 3\n",
    "4 5 6\n",
    "7 8 9\n",
    "\"\"\"\n",
    "\"\"\"\n",
    "Output array\n",
    "1 4 7 8 5 2 3 6 9\n",
    "\"\"\"\n"
   ]
  },
  {
   "cell_type": "code",
   "execution_count": 20,
   "id": "e934915e",
   "metadata": {},
   "outputs": [
    {
     "name": "stdout",
     "output_type": "stream",
     "text": [
      "1 4 7 8 5 2 3 6 9 "
     ]
    }
   ],
   "source": [
    "arr=[[1,2,3],[4,5,6],[7,8,9]]\n",
    "r=3\n",
    "c=3\n",
    "sr=0\n",
    "sc=0\n",
    "try:\n",
    "    while sc<c:\n",
    "        for i in range(r):\n",
    "            print(arr[i][sc],end=\" \")\n",
    "        sc+=1\n",
    "        if(sc<c-1):\n",
    "            for i in range(r-1,-1,-1):\n",
    "                print(arr[i][sc],end=\" \")\n",
    "        sc+=1\n",
    "except exception:\n",
    "    True\n",
    "    "
   ]
  },
  {
   "cell_type": "code",
   "execution_count": null,
   "id": "f862cfde",
   "metadata": {},
   "outputs": [],
   "source": []
  }
 ],
 "metadata": {
  "kernelspec": {
   "display_name": "Python 3 (ipykernel)",
   "language": "python",
   "name": "python3"
  },
  "language_info": {
   "codemirror_mode": {
    "name": "ipython",
    "version": 3
   },
   "file_extension": ".py",
   "mimetype": "text/x-python",
   "name": "python",
   "nbconvert_exporter": "python",
   "pygments_lexer": "ipython3",
   "version": "3.10.0"
  }
 },
 "nbformat": 4,
 "nbformat_minor": 5
}
