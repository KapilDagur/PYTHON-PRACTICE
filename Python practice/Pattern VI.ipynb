{
 "cells": [
  {
   "cell_type": "code",
   "execution_count": 16,
   "id": "6a69882f",
   "metadata": {},
   "outputs": [
    {
     "name": "stdout",
     "output_type": "stream",
     "text": [
      "Enter a number\n",
      "4\n",
      "1     1    \n",
      " 2   2     \n",
      "  3 3      \n",
      "   4       \n",
      "  3 3      \n",
      " 2   2     \n"
     ]
    }
   ],
   "source": [
    "n = int(input(\"Enter a number\\n\"))\n",
    "m = n + n//2\n",
    "for i in range(m):\n",
    "    for j in range(2*m-1):\n",
    "        if((j == i or j == m-i) and i < n):\n",
    "            print(i+1,end=\"\")\n",
    "        elif(j == i or j == m-i):\n",
    "            print(m-i+1,end=\"\")\n",
    "        else:\n",
    "            print(\" \",end=\"\")\n",
    "    print()"
   ]
  },
  {
   "cell_type": "code",
   "execution_count": null,
   "id": "773732e0",
   "metadata": {},
   "outputs": [],
   "source": []
  },
  {
   "cell_type": "code",
   "execution_count": null,
   "id": "54ca038c",
   "metadata": {},
   "outputs": [],
   "source": []
  }
 ],
 "metadata": {
  "kernelspec": {
   "display_name": "Python 3 (ipykernel)",
   "language": "python",
   "name": "python3"
  },
  "language_info": {
   "codemirror_mode": {
    "name": "ipython",
    "version": 3
   },
   "file_extension": ".py",
   "mimetype": "text/x-python",
   "name": "python",
   "nbconvert_exporter": "python",
   "pygments_lexer": "ipython3",
   "version": "3.10.0"
  }
 },
 "nbformat": 4,
 "nbformat_minor": 5
}
