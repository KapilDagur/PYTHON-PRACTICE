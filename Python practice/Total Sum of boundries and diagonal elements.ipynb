{
 "cells": [
  {
   "cell_type": "code",
   "execution_count": 8,
   "id": "c4dbb38f",
   "metadata": {},
   "outputs": [
    {
     "name": "stdout",
     "output_type": "stream",
     "text": [
      "5 5\n",
      "1 2 3 4 5\n",
      "6 7 8 9 10\n",
      "11 12 13 14 15\n",
      "16 17 18 19 20\n",
      "21 22 23 24 25\n",
      "377\n"
     ]
    }
   ],
   "source": [
    "arr = []\n",
    "m,n = map(int,input().split())\n",
    "for i in range(n):\n",
    "    arr.append(list(map(int,input().split())))\n",
    "RowF, RowL, ColF, ColL, LDeg, RDeg = 0, 0, 0, 0, 0, 0\n",
    "for i in range(n):\n",
    "    for j in range(m):#Loop for Sum of all diagonal element\n",
    "        if(j == i):\n",
    "            LDeg += arr[i][j]\n",
    "        elif(j == m-i-1):\n",
    "            RDeg += arr[i][j]\n",
    "    j=0\n",
    "    for j in range(m):#Loop for Sum of all boundries Rows\n",
    "        if(i == 0):\n",
    "            RowF += arr[i][j]\n",
    "        elif(i == n-1):\n",
    "            RowL += arr[i][j]\n",
    "    j=0\n",
    "    for j in range(m):#Loop for sum of all boundries Columna\n",
    "        if(j == 0):\n",
    "            ColF += arr[i][j]\n",
    "        elif(j == n-1):\n",
    "            ColL += arr[i][j]\n",
    "total = RowF+RowL+ColF+ColL+LDeg+RDeg\n",
    "print(total)"
   ]
  },
  {
   "cell_type": "code",
   "execution_count": null,
   "id": "d3cbd986",
   "metadata": {},
   "outputs": [],
   "source": []
  }
 ],
 "metadata": {
  "kernelspec": {
   "display_name": "Python 3 (ipykernel)",
   "language": "python",
   "name": "python3"
  },
  "language_info": {
   "codemirror_mode": {
    "name": "ipython",
    "version": 3
   },
   "file_extension": ".py",
   "mimetype": "text/x-python",
   "name": "python",
   "nbconvert_exporter": "python",
   "pygments_lexer": "ipython3",
   "version": "3.10.0"
  }
 },
 "nbformat": 4,
 "nbformat_minor": 5
}
