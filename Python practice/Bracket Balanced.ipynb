{
 "cells": [
  {
   "cell_type": "markdown",
   "id": "5b5ae7ce",
   "metadata": {},
   "source": [
    "# Bracket Balanced"
   ]
  },
  {
   "cell_type": "code",
   "execution_count": 8,
   "id": "f32ff2d4",
   "metadata": {},
   "outputs": [
    {
     "name": "stdout",
     "output_type": "stream",
     "text": [
      "Yes 9\n"
     ]
    }
   ],
   "source": [
    "s = input(\"Enter a Bracket string\")\n",
    "mid = len(s)//2\n",
    "i = 0\n",
    "count = 0\n",
    "while i < mid:\n",
    "    count+=1\n",
    "    if(s[i] == \"{\" and s[-1-i] == \"}\"):\n",
    "        True\n",
    "    elif(s[i] == \"[\" and s[-1-i] == \"]\"):\n",
    "        True\n",
    "    elif(s[i] == \"(\" and s[-1-i] == \")\"):\n",
    "        True\n",
    "    else:\n",
    "        print(\"No\")\n",
    "        break\n",
    "    i+=1\n",
    "if(i==mid):\n",
    "    print(\"Yes\",count)"
   ]
  },
  {
   "cell_type": "code",
   "execution_count": null,
   "id": "93f1b575",
   "metadata": {},
   "outputs": [],
   "source": []
  }
 ],
 "metadata": {
  "kernelspec": {
   "display_name": "Python 3 (ipykernel)",
   "language": "python",
   "name": "python3"
  },
  "language_info": {
   "codemirror_mode": {
    "name": "ipython",
    "version": 3
   },
   "file_extension": ".py",
   "mimetype": "text/x-python",
   "name": "python",
   "nbconvert_exporter": "python",
   "pygments_lexer": "ipython3",
   "version": "3.10.0"
  }
 },
 "nbformat": 4,
 "nbformat_minor": 5
}
