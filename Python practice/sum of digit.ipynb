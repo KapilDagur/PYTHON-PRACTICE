{
 "cells": [
  {
   "cell_type": "code",
   "execution_count": 6,
   "id": "08576d21",
   "metadata": {},
   "outputs": [
    {
     "name": "stdout",
     "output_type": "stream",
     "text": [
      "1\n",
      "1234\n",
      "10\n"
     ]
    }
   ],
   "source": [
    "T=int(input())\n",
    "while T > 0:\n",
    "    num = int(input())\n",
    "    sum,carry = 0,0\n",
    "    while num > 0:\n",
    "        carry = num % 10\n",
    "        num = num//10\n",
    "        sum=sum+carry\n",
    "    print(sum)\n",
    "    T-=1"
   ]
  },
  {
   "cell_type": "code",
   "execution_count": null,
   "id": "90d105bc",
   "metadata": {},
   "outputs": [],
   "source": []
  }
 ],
 "metadata": {
  "kernelspec": {
   "display_name": "Python 3 (ipykernel)",
   "language": "python",
   "name": "python3"
  },
  "language_info": {
   "codemirror_mode": {
    "name": "ipython",
    "version": 3
   },
   "file_extension": ".py",
   "mimetype": "text/x-python",
   "name": "python",
   "nbconvert_exporter": "python",
   "pygments_lexer": "ipython3",
   "version": "3.10.0"
  }
 },
 "nbformat": 4,
 "nbformat_minor": 5
}
