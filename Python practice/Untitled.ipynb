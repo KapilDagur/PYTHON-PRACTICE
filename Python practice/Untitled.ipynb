{
 "cells": [
  {
   "cell_type": "code",
   "execution_count": 2,
   "id": "7342ff40",
   "metadata": {},
   "outputs": [
    {
     "name": "stdout",
     "output_type": "stream",
     "text": [
      "1 2 3 4 8 12 16 15 14 13 10 6 9 10 11 "
     ]
    }
   ],
   "source": [
    "mat=[[1,2,3,4],[5,6,7,8],[9,10,11,12],[13,14,15,16]]\n",
    "nRows=4\n",
    "mCols=4\n",
    "s_r=0#    starting rows\n",
    "s_c=0#    starting column\n",
    "while s_r<nRows and s_c<mCols:\n",
    "    for i in range(s_c,mCols):\n",
    "        print(mat[s_r][i],end=\" \")\n",
    "    s_r+=1\n",
    "    for i in range(s_r,nRows):\n",
    "        print(mat[i][mCols-1],end=\" \")\n",
    "    mCols-=1\n",
    "    if (s_r < nRows):\n",
    "        for i in range(mCols - 1, (s_c - 1), -1):\n",
    "            print(mat[nRows - 1][i], end=\" \")\n",
    "        nRows -= 1\n",
    "    if (s_r<mCols):\n",
    "        for i in range(nRows - 1, s_r - 1, -1):\n",
    "            print(mat[i][s_r], end=\" \")\n",
    "        s_r+=1"
   ]
  },
  {
   "cell_type": "code",
   "execution_count": 3,
   "id": "36a2d593",
   "metadata": {},
   "outputs": [
    {
     "name": "stdout",
     "output_type": "stream",
     "text": [
      "1 2 3 4 8 12 16 15 14 13 9 5 6 7 11 10 "
     ]
    }
   ],
   "source": [
    "# Python3 program to print\n",
    "# given matrix in spiral form\n",
    "\n",
    "\n",
    "def spiralPrint(m, n, a):\n",
    "    k = 0\n",
    "    l = 0\n",
    "\n",
    "    ''' k - starting row index\n",
    "        m - ending row index\n",
    "        l - starting column index\n",
    "        n - ending column index\n",
    "        i - iterator '''\n",
    "\n",
    "    while (k < m and l < n):\n",
    "\n",
    "        # Print the first row from\n",
    "        # the remaining rows\n",
    "        for i in range(l, n):\n",
    "            print(a[k][i], end=\" \")\n",
    "\n",
    "        k += 1\n",
    "\n",
    "        # Print the last column from\n",
    "        # the remaining columns\n",
    "        for i in range(k, m):\n",
    "            print(a[i][n - 1], end=\" \")\n",
    "\n",
    "        n -= 1\n",
    "\n",
    "        # Print the last row from\n",
    "        # the remaining rows\n",
    "        if (k < m):\n",
    "\n",
    "            for i in range(n - 1, (l - 1), -1):\n",
    "                print(a[m - 1][i], end=\" \")\n",
    "\n",
    "            m -= 1\n",
    "\n",
    "        # Print the first column from\n",
    "        # the remaining columns\n",
    "        if (l < n):\n",
    "            for i in range(m - 1, k - 1, -1):\n",
    "                print(a[i][l], end=\" \")\n",
    "\n",
    "            l += 1\n",
    "\n",
    "\n",
    "# Driver Code\n",
    "a = [[1,2,3,4],[5,6,7,8],[9,10,11,12],[13,14,15,16]]\n",
    "\n",
    "R = 4\n",
    "C = 4\n",
    "\n",
    "# Function Call\n",
    "spiralPrint(R, C, a)\n",
    "\n",
    "# This code is contributed by Nikita Tiwari."
   ]
  },
  {
   "cell_type": "code",
   "execution_count": null,
   "id": "e954134e",
   "metadata": {},
   "outputs": [],
   "source": []
  }
 ],
 "metadata": {
  "kernelspec": {
   "display_name": "Python 3 (ipykernel)",
   "language": "python",
   "name": "python3"
  },
  "language_info": {
   "codemirror_mode": {
    "name": "ipython",
    "version": 3
   },
   "file_extension": ".py",
   "mimetype": "text/x-python",
   "name": "python",
   "nbconvert_exporter": "python",
   "pygments_lexer": "ipython3",
   "version": "3.10.0"
  }
 },
 "nbformat": 4,
 "nbformat_minor": 5
}
