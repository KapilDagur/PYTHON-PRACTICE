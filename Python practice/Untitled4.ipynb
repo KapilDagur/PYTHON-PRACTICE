{
 "cells": [
  {
   "cell_type": "code",
   "execution_count": 1,
   "id": "9ed01c11",
   "metadata": {},
   "outputs": [
    {
     "name": "stdout",
     "output_type": "stream",
     "text": [
      "15\n"
     ]
    }
   ],
   "source": [
    "N = 3\n",
    " \n",
    "# Function to return the minimum steps\n",
    "# required to convert the given matrix\n",
    "# to a Diagonally Dominant Matrix\n",
    "def findStepsForDDM(arr):\n",
    " \n",
    "    result = 0\n",
    " \n",
    "    # For each row\n",
    "    for i in range(N):\n",
    " \n",
    "        # To store the sum of the current row\n",
    "        sum = 0\n",
    "        for j in range(N):\n",
    "            sum += abs(arr[i][j])\n",
    " \n",
    "        # Remove the element of the current row\n",
    "        # which lies on the main diagonal\n",
    "        sum -= abs(arr[i][i])\n",
    " \n",
    "        # Checking if the diagonal element is less\n",
    "        # than the sum of non-diagonal element\n",
    "        # then add their difference to the result\n",
    "        if (abs(arr[i][i]) < abs(sum)):\n",
    "            result += abs(abs(arr[i][i]) - abs(sum))\n",
    " \n",
    "    return result\n",
    " \n",
    "# Driver code\n",
    " \n",
    "arr= [ [ 1, 2, 3],\n",
    "    [ 4, 5, 6],\n",
    "    [ 7, 8, 9] ]\n",
    " \n",
    "print(findStepsForDDM(arr))"
   ]
  },
  {
   "cell_type": "code",
   "execution_count": null,
   "id": "5dfc38e3",
   "metadata": {},
   "outputs": [],
   "source": []
  }
 ],
 "metadata": {
  "kernelspec": {
   "display_name": "Python 3 (ipykernel)",
   "language": "python",
   "name": "python3"
  },
  "language_info": {
   "codemirror_mode": {
    "name": "ipython",
    "version": 3
   },
   "file_extension": ".py",
   "mimetype": "text/x-python",
   "name": "python",
   "nbconvert_exporter": "python",
   "pygments_lexer": "ipython3",
   "version": "3.10.0"
  }
 },
 "nbformat": 4,
 "nbformat_minor": 5
}
