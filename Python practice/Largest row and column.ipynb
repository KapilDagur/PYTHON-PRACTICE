{
 "cells": [
  {
   "cell_type": "code",
   "execution_count": 12,
   "id": "844c4aa9",
   "metadata": {},
   "outputs": [
    {
     "name": "stdout",
     "output_type": "stream",
     "text": [
      "Largest Column 38 4\n"
     ]
    }
   ],
   "source": [
    "arr=[[1,2,3,4,5],[2,3,4,5,6],[7,8,0,0,7],[4,5,6,8,3]]\n",
    "maxr=0\n",
    "index_r=0\n",
    "for i in range(4):\n",
    "    sumr=0\n",
    "    for j in range(5):\n",
    "        sumr+=arr[i][j]\n",
    "    if(sumr>maxr):\n",
    "        maxr=sumr\n",
    "        index_r=i\n",
    "maxc=0\n",
    "index_c=0\n",
    "for i in range(5):\n",
    "    sumc=0\n",
    "    for j in range(4):\n",
    "        sumc+=arr[j][i]\n",
    "    if(sumc>maxc):\n",
    "        maxc=sumc\n",
    "        index_c=i\n",
    "if(maxr>maxc):\n",
    "    print(\"Largest Row\",maxr,index_r)\n",
    "else:\n",
    "    print(\"Largest Column\",maxc,index_c)"
   ]
  },
  {
   "cell_type": "code",
   "execution_count": 26,
   "id": "6870bc10",
   "metadata": {},
   "outputs": [
    {
     "name": "stdout",
     "output_type": "stream",
     "text": [
      "[8, 0, 2, 2]\n"
     ]
    }
   ],
   "source": [
    "a=[1,2,3,4]\n",
    "b=[5,6,7,8]\n",
    "out=4*[0]\n",
    "sum=0\n",
    "carry=0\n",
    "maxl=0\n",
    "if(len(a)>len(b)):\n",
    "    maxl=len(a)\n",
    "else:\n",
    "    maxl=len(b)\n",
    "for i in range(maxl):\n",
    "    sum=a[len(a)-i-1]+b[len(b)-i-1]+carry\n",
    "    if(sum%10>0):\n",
    "        carry=sum%10\n",
    "        sum=sum//10\n",
    "        out[len(out)-i-1]=carry\n",
    "print(out)"
   ]
  },
  {
   "cell_type": "code",
   "execution_count": 24,
   "id": "c101dbc6",
   "metadata": {},
   "outputs": [],
   "source": [
    "a=[]"
   ]
  },
  {
   "cell_type": "code",
   "execution_count": null,
   "id": "c6fb8be3",
   "metadata": {},
   "outputs": [],
   "source": []
  }
 ],
 "metadata": {
  "kernelspec": {
   "display_name": "Python 3 (ipykernel)",
   "language": "python",
   "name": "python3"
  },
  "language_info": {
   "codemirror_mode": {
    "name": "ipython",
    "version": 3
   },
   "file_extension": ".py",
   "mimetype": "text/x-python",
   "name": "python",
   "nbconvert_exporter": "python",
   "pygments_lexer": "ipython3",
   "version": "3.10.0"
  }
 },
 "nbformat": 4,
 "nbformat_minor": 5
}
