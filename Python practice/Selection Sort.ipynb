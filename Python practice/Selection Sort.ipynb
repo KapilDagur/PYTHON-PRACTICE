{
 "cells": [
  {
   "cell_type": "markdown",
   "id": "fd607f4d",
   "metadata": {},
   "source": [
    "# Selection Sort"
   ]
  },
  {
   "cell_type": "code",
   "execution_count": 6,
   "id": "f4a0a1cf",
   "metadata": {},
   "outputs": [
    {
     "name": "stdout",
     "output_type": "stream",
     "text": [
      "5 7 4 8 3\n",
      "[5, 7, 4, 8, 3]\n"
     ]
    }
   ],
   "source": [
    "arr = list(map(int,input().split()))\n",
    "length = len(arr)\n",
    "for i in range(1,length-1):\n",
    "    for j in range(i,length-1-i):\n",
    "        if(arr[i]<arr[j]):\n",
    "            arr[i],arr[j] = arr[j],arr[i]\n",
    "print(arr)"
   ]
  },
  {
   "cell_type": "code",
   "execution_count": null,
   "id": "8db40a5b",
   "metadata": {},
   "outputs": [],
   "source": []
  },
  {
   "cell_type": "code",
   "execution_count": null,
   "id": "63be7cec",
   "metadata": {},
   "outputs": [],
   "source": []
  }
 ],
 "metadata": {
  "kernelspec": {
   "display_name": "Python 3 (ipykernel)",
   "language": "python",
   "name": "python3"
  },
  "language_info": {
   "codemirror_mode": {
    "name": "ipython",
    "version": 3
   },
   "file_extension": ".py",
   "mimetype": "text/x-python",
   "name": "python",
   "nbconvert_exporter": "python",
   "pygments_lexer": "ipython3",
   "version": "3.10.0"
  }
 },
 "nbformat": 4,
 "nbformat_minor": 5
}
