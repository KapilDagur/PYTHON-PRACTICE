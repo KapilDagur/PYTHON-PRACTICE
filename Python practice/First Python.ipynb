{
 "cells": [
  {
   "cell_type": "code",
   "execution_count": 8,
   "id": "c376a383",
   "metadata": {},
   "outputs": [
    {
     "name": "stdout",
     "output_type": "stream",
     "text": [
      "[0, 0, 2, 1, 0, 0, 3]\n"
     ]
    }
   ],
   "source": [
    "#2 0 0 1 3 0 0\n",
    "arr=[2,0,0,1,3,0,0]\n",
    "n=7\n",
    "for i in range(0,n):\n",
    "    if(arr[i]==0):\n",
    "        arr[i-1],arr[i]=arr[i],arr[i-1]\n",
    "print(arr)"
   ]
  },
  {
   "cell_type": "code",
   "execution_count": 19,
   "id": "ea213932",
   "metadata": {},
   "outputs": [
    {
     "name": "stdout",
     "output_type": "stream",
     "text": [
      "[1, 2, 3, 4, 5, 6]\n",
      "[2, 4, 5, 6, 1, 2]\n"
     ]
    }
   ],
   "source": [
    "arr=[1,2,3,4,5,6]\n",
    "temp=[]\n",
    "d=2\n",
    "print(arr)\n",
    "for i in range(d):\n",
    "    temp.append(arr[i])\n",
    "for i in range(d):\n",
    "    arr.pop(d-i)\n",
    "    arr.append(temp[i])\n",
    "print(arr)"
   ]
  },
  {
   "cell_type": "code",
   "execution_count": null,
   "id": "8c9c07ff",
   "metadata": {},
   "outputs": [],
   "source": []
  },
  {
   "cell_type": "code",
   "execution_count": null,
   "id": "1869eea9",
   "metadata": {},
   "outputs": [],
   "source": []
  }
 ],
 "metadata": {
  "kernelspec": {
   "display_name": "Python 3 (ipykernel)",
   "language": "python",
   "name": "python3"
  },
  "language_info": {
   "codemirror_mode": {
    "name": "ipython",
    "version": 3
   },
   "file_extension": ".py",
   "mimetype": "text/x-python",
   "name": "python",
   "nbconvert_exporter": "python",
   "pygments_lexer": "ipython3",
   "version": "3.10.0"
  }
 },
 "nbformat": 4,
 "nbformat_minor": 5
}
