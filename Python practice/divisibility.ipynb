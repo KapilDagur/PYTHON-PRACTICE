{
 "cells": [
  {
   "cell_type": "code",
   "execution_count": 11,
   "id": "0e67060e",
   "metadata": {},
   "outputs": [
    {
     "name": "stdout",
     "output_type": "stream",
     "text": [
      "5\n",
      "12\n"
     ]
    },
    {
     "ename": "TypeError",
     "evalue": "'str' object is not callable",
     "output_type": "error",
     "traceback": [
      "\u001b[1;31m---------------------------------------------------------------------------\u001b[0m",
      "\u001b[1;31mTypeError\u001b[0m                                 Traceback (most recent call last)",
      "\u001b[1;32m~\\AppData\\Local\\Temp/ipykernel_2288/4094657655.py\u001b[0m in \u001b[0;36m<module>\u001b[1;34m\u001b[0m\n\u001b[0;32m      3\u001b[0m \u001b[0mstr1\u001b[0m \u001b[1;33m=\u001b[0m \u001b[1;34m\"\"\u001b[0m\u001b[1;33m\u001b[0m\u001b[1;33m\u001b[0m\u001b[0m\n\u001b[0;32m      4\u001b[0m \u001b[1;32mfor\u001b[0m \u001b[0mi\u001b[0m \u001b[1;32min\u001b[0m \u001b[0mdata\u001b[0m\u001b[1;33m:\u001b[0m\u001b[1;33m\u001b[0m\u001b[1;33m\u001b[0m\u001b[0m\n\u001b[1;32m----> 5\u001b[1;33m     \u001b[0mstr1\u001b[0m\u001b[1;33m+=\u001b[0m \u001b[0mstr\u001b[0m\u001b[1;33m(\u001b[0m\u001b[0mi\u001b[0m\u001b[1;33m%\u001b[0m\u001b[1;36m10\u001b[0m\u001b[1;33m)\u001b[0m\u001b[1;33m\u001b[0m\u001b[1;33m\u001b[0m\u001b[0m\n\u001b[0m\u001b[0;32m      6\u001b[0m \u001b[1;31m# Write your code here\u001b[0m\u001b[1;33m\u001b[0m\u001b[1;33m\u001b[0m\u001b[0m\n\u001b[0;32m      7\u001b[0m \u001b[1;31m# ans =\u001b[0m\u001b[1;33m\u001b[0m\u001b[1;33m\u001b[0m\u001b[0m\n",
      "\u001b[1;31mTypeError\u001b[0m: 'str' object is not callable"
     ]
    }
   ],
   "source": [
    "N = int(input())\n",
    "data = [int(x) for x in input().split()]\n",
    "str1 = \"\"\n",
    "for i in data:\n",
    "    str1+= str(i%10)\n",
    "# Write your code here\n",
    "# ans = \n",
    "print(type(data))"
   ]
  },
  {
   "cell_type": "code",
   "execution_count": 12,
   "id": "de997a4f",
   "metadata": {},
   "outputs": [
    {
     "name": "stdout",
     "output_type": "stream",
     "text": [
      "5\n",
      "1 2 3 4 5\n",
      "120\n"
     ]
    }
   ],
   "source": [
    "num=int(input())\n",
    "val=list(map(int,input().split()))\n",
    "mul=1\n",
    "for i in val:\n",
    "    mul*=i\n",
    "print(mul)"
   ]
  },
  {
   "cell_type": "code",
   "execution_count": 17,
   "id": "bd8f11dd",
   "metadata": {},
   "outputs": [
    {
     "name": "stdout",
     "output_type": "stream",
     "text": [
      "6\n",
      "15478 8452 8232 874 985 4512\n",
      "1\n",
      "8\n",
      "8\n",
      "4\n",
      "5\n",
      "2\n",
      "188452\n",
      "OUI\n"
     ]
    }
   ],
   "source": [
    "def solve (A):\n",
    "    # Write your code here\n",
    "    div=\"\"\n",
    "    for i in range(len(A)):\n",
    "        if(i<len(A)//2):\n",
    "            div+=A[i][0]\n",
    "            print(A[i][0])\n",
    "        else:\n",
    "            div+=A[i][len(A[i])-1]\n",
    "            print(A[i][len(A[i])-1])\n",
    "    print(div)\n",
    "    if(int(div)%11==0):\n",
    "        return \"OUI\"\n",
    "    else:\n",
    "        return \"NON\"\n",
    "\n",
    "N = int(input())\n",
    "A = list(x for x in input().split())\n",
    "\n",
    "out_ = solve(A)\n",
    "print (out_)"
   ]
  },
  {
   "cell_type": "code",
   "execution_count": null,
   "id": "22592288",
   "metadata": {},
   "outputs": [],
   "source": []
  }
 ],
 "metadata": {
  "kernelspec": {
   "display_name": "Python 3 (ipykernel)",
   "language": "python",
   "name": "python3"
  },
  "language_info": {
   "codemirror_mode": {
    "name": "ipython",
    "version": 3
   },
   "file_extension": ".py",
   "mimetype": "text/x-python",
   "name": "python",
   "nbconvert_exporter": "python",
   "pygments_lexer": "ipython3",
   "version": "3.10.0"
  }
 },
 "nbformat": 4,
 "nbformat_minor": 5
}
